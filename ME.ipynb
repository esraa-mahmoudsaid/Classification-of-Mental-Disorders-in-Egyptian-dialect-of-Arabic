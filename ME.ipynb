{
 "cells": [
  {
   "cell_type": "markdown",
   "id": "6f436eb7",
   "metadata": {},
   "source": [
    "# Importing Packages\n",
    "\n"
   ]
  },
  {
   "cell_type": "code",
   "execution_count": 1,
   "id": "0caf20e7",
   "metadata": {},
   "outputs": [
    {
     "name": "stderr",
     "output_type": "stream",
     "text": [
      "[nltk_data] Downloading package punkt to\n",
      "[nltk_data]     C:\\Users\\HP\\AppData\\Roaming\\nltk_data...\n",
      "[nltk_data]   Package punkt is already up-to-date!\n",
      "[nltk_data] Downloading package averaged_perceptron_tagger to\n",
      "[nltk_data]     C:\\Users\\HP\\AppData\\Roaming\\nltk_data...\n",
      "[nltk_data]   Package averaged_perceptron_tagger is already up-to-\n",
      "[nltk_data]       date!\n",
      "[nltk_data] Downloading package wordnet to\n",
      "[nltk_data]     C:\\Users\\HP\\AppData\\Roaming\\nltk_data...\n",
      "[nltk_data]   Package wordnet is already up-to-date!\n"
     ]
    }
   ],
   "source": [
    "#basic packeges \n",
    "import pandas as pd\n",
    "import numpy as np\n",
    "import seaborn as sns\n",
    "sns.set()\n",
    "sns.set(style=\"darkgrid\")\n",
    "import matplotlib.pyplot as plt\n",
    "import wordcloud\n",
    "from textblob import TextBlob\n",
    "#for text pre-processing\n",
    "import re, string\n",
    "import nltk\n",
    "from nltk.tokenize import word_tokenize\n",
    "from nltk import word_tokenize\n",
    "from nltk.stem.isri import ISRIStemmer\n",
    "from nltk.corpus import stopwords\n",
    "from nltk.tokenize import word_tokenize\n",
    "from nltk.corpus import wordnet\n",
    "nltk.download('punkt')\n",
    "nltk.download('averaged_perceptron_tagger')\n",
    "nltk.download('wordnet')\n",
    "#for model-building\n",
    "from sklearn.preprocessing import LabelEncoder \n",
    "from sklearn.model_selection import train_test_split\n",
    "from sklearn.model_selection import GridSearchCV\n",
    "from sklearn.linear_model import LogisticRegression, SGDClassifier\n",
    "from sklearn.naive_bayes import MultinomialNB\n",
    "from sklearn import model_selection, naive_bayes, svm\n",
    "from sklearn.svm import LinearSVC\n",
    "from sklearn.ensemble import RandomForestClassifier, AdaBoostClassifier\n",
    "from sklearn.svm import SVC\n",
    "from sklearn.neighbors import KNeighborsClassifier\n",
    "from sklearn.tree import DecisionTreeClassifier\n",
    "from sklearn.naive_bayes import GaussianNB\n",
    "import sklearn.metrics as metrics\n",
    "from sklearn.metrics import classification_report, f1_score, accuracy_score, confusion_matrix\n",
    "from sklearn.metrics import roc_curve, auc, roc_auc_score\n",
    "#Feature Engineering\n",
    "from sklearn.feature_extraction.text import TfidfVectorizer\n",
    "from sklearn.feature_extraction.text import CountVectorizer\n",
    "import gensim\n",
    "from gensim.models import Word2Vec\n",
    "#for model save\n",
    "import joblib\n",
    "#other\n",
    "import warnings\n",
    "warnings.filterwarnings(\"ignore\")\n"
   ]
  },
  {
   "cell_type": "markdown",
   "id": "e6adb7d0",
   "metadata": {},
   "source": [
    "# Loading Data"
   ]
  },
  {
   "cell_type": "code",
   "execution_count": 2,
   "id": "8fa07ab4",
   "metadata": {},
   "outputs": [],
   "source": [
    "read_file = pd.read_excel (r\"D:\\final_data.xlsx\")\n",
    "  \n",
    "# Write the dataframe object\n",
    "# into csv file\n",
    "read_file.to_csv (r\"D:\\final_data.csv\",\n",
    "                  index = None,\n",
    "                  header=True)\n",
    "\n",
    "df0 = pd.DataFrame(pd.read_csv(r\"D:\\final_data.csv\"))"
   ]
  },
  {
   "cell_type": "markdown",
   "id": "093bdc83",
   "metadata": {},
   "source": [
    "# Exploratory Data Analysis (EDA)"
   ]
  },
  {
   "cell_type": "code",
   "execution_count": 3,
   "id": "739c8f0a",
   "metadata": {},
   "outputs": [
    {
     "name": "stdout",
     "output_type": "stream",
     "text": [
      "(1800, 2)\n"
     ]
    },
    {
     "data": {
      "text/html": [
       "<div>\n",
       "<style scoped>\n",
       "    .dataframe tbody tr th:only-of-type {\n",
       "        vertical-align: middle;\n",
       "    }\n",
       "\n",
       "    .dataframe tbody tr th {\n",
       "        vertical-align: top;\n",
       "    }\n",
       "\n",
       "    .dataframe thead th {\n",
       "        text-align: right;\n",
       "    }\n",
       "</style>\n",
       "<table border=\"1\" class=\"dataframe\">\n",
       "  <thead>\n",
       "    <tr style=\"text-align: right;\">\n",
       "      <th></th>\n",
       "      <th>label</th>\n",
       "      <th>text</th>\n",
       "    </tr>\n",
       "  </thead>\n",
       "  <tbody>\n",
       "    <tr>\n",
       "      <th>0</th>\n",
       "      <td>اكتئاب</td>\n",
       "      <td>#$حاسس انى هنت</td>\n",
       "    </tr>\n",
       "    <tr>\n",
       "      <th>1</th>\n",
       "      <td>اكتئاب</td>\n",
       "      <td>حاسس بالاكتئاب بسبب انى مش مرغوب فيه</td>\n",
       "    </tr>\n",
       "    <tr>\n",
       "      <th>2</th>\n",
       "      <td>اكتئاب</td>\n",
       "      <td>حاسس  بالاكتئاب والإحباط بسبب المشاكل و الفشل</td>\n",
       "    </tr>\n",
       "    <tr>\n",
       "      <th>3</th>\n",
       "      <td>اكتئاب</td>\n",
       "      <td>مش عارف اركز ولا  عارف الاقي لحظه هدوء, افكاري...</td>\n",
       "    </tr>\n",
       "    <tr>\n",
       "      <th>4</th>\n",
       "      <td>اكتئاب</td>\n",
       "      <td>حاسس بالاكتئاب واليأس والدنيا أسودت فى وشي وال...</td>\n",
       "    </tr>\n",
       "  </tbody>\n",
       "</table>\n",
       "</div>"
      ],
      "text/plain": [
       "    label                                               text\n",
       "0  اكتئاب                                     #$حاسس انى هنت\n",
       "1  اكتئاب               حاسس بالاكتئاب بسبب انى مش مرغوب فيه\n",
       "2  اكتئاب     حاسس  بالاكتئاب والإحباط بسبب المشاكل و الفشل \n",
       "3  اكتئاب  مش عارف اركز ولا  عارف الاقي لحظه هدوء, افكاري...\n",
       "4  اكتئاب  حاسس بالاكتئاب واليأس والدنيا أسودت فى وشي وال..."
      ]
     },
     "execution_count": 3,
     "metadata": {},
     "output_type": "execute_result"
    }
   ],
   "source": [
    "# dataframe shape\n",
    "df0=pd.read_csv(r\"D:\\final_data.csv\")\n",
    "print(df0.shape)\n",
    "df0.head()"
   ]
  },
  {
   "cell_type": "code",
   "execution_count": 4,
   "id": "279d3835",
   "metadata": {},
   "outputs": [
    {
     "name": "stdout",
     "output_type": "stream",
     "text": [
      "اكتئاب           600\n",
      "ميول انتحاريه    600\n",
      "القلق            600\n",
      "Name: label, dtype: int64\n"
     ]
    },
    {
     "data": {
      "text/plain": [
       "<AxesSubplot:ylabel='label'>"
      ]
     },
     "execution_count": 4,
     "metadata": {},
     "output_type": "execute_result"
    },
    {
     "data": {
      "image/png": "[encoded data removed]",
      "text/plain": [
       "<Figure size 432x288 with 1 Axes>"
      ]
     },
     "metadata": {},
     "output_type": "display_data"
    }
   ],
   "source": [
    "# CLASS DISTRIBUTION\n",
    "#if dataset is balanced or not\n",
    "x=df0['label'].value_counts()\n",
    "print(x)\n",
    "#sns.barplot(x=\"Item_Type\", y=\"Item_MRP\", data=data_BM[:5])\n",
    "sns.barplot(x.index,x)\n"
   ]
  },
  {
   "cell_type": "code",
   "execution_count": 5,
   "id": "d5ea4c17",
   "metadata": {},
   "outputs": [
    {
     "data": {
      "text/plain": [
       "label    0\n",
       "text     0\n",
       "dtype: int64"
      ]
     },
     "execution_count": 5,
     "metadata": {},
     "output_type": "execute_result"
    }
   ],
   "source": [
    "#Missing values\n",
    "df0.isna().sum()"
   ]
  },
  {
   "cell_type": "code",
   "execution_count": 6,
   "id": "f5142f8c",
   "metadata": {},
   "outputs": [
    {
     "name": "stdout",
     "output_type": "stream",
     "text": [
      "<class 'pandas.core.frame.DataFrame'>\n",
      "RangeIndex: 1800 entries, 0 to 1799\n",
      "Data columns (total 2 columns):\n",
      " #   Column  Non-Null Count  Dtype \n",
      "---  ------  --------------  ----- \n",
      " 0   label   1800 non-null   object\n",
      " 1   text    1800 non-null   object\n",
      "dtypes: object(2)\n",
      "memory usage: 28.2+ KB\n"
     ]
    }
   ],
   "source": [
    "#data info\n",
    "df0.info()"
   ]
  },
  {
   "cell_type": "markdown",
   "id": "3c691595",
   "metadata": {},
   "source": [
    "length analysis"
   ]
  },
  {
   "cell_type": "code",
   "execution_count": 7,
   "id": "e5cc4bda",
   "metadata": {},
   "outputs": [
    {
     "name": "stdout",
     "output_type": "stream",
     "text": [
      "0        15\n",
      "1        36\n",
      "2        46\n",
      "3       115\n",
      "4        61\n",
      "       ... \n",
      "1795    187\n",
      "1796     66\n",
      "1797    172\n",
      "1798    120\n",
      "1799     87\n",
      "Name: length, Length: 1800, dtype: int64\n"
     ]
    }
   ],
   "source": [
    "# char-Length for each sentence\n",
    "\n",
    "df0[\"length\"] = df0[\"text\"].apply(len)\n",
    "print(df0[\"length\"])\n"
   ]
  },
  {
   "cell_type": "code",
   "execution_count": 8,
   "id": "93401ed9",
   "metadata": {},
   "outputs": [
    {
     "name": "stdout",
     "output_type": "stream",
     "text": [
      "word_count\n",
      "\n",
      "11.051666666666666\n",
      "13.733333333333333\n",
      "13.068333333333333\n",
      "charachter_count\n",
      "\n",
      "56.53666666666667\n",
      "70.67833333333333\n",
      "67.59\n",
      "unique word_count\n",
      "\n",
      "10.731666666666667\n",
      "13.128333333333334\n",
      "12.546666666666667\n"
     ]
    }
   ],
   "source": [
    "#1. WORD-COUNT \"counts the number of tokens in the text (separated by a space)\"\n",
    "print(\"word_count\\n\")\n",
    "df0['word_count'] = df0['text'].apply(lambda x: len(str(x).split()))\n",
    "print(df0[df0['label']=='اكتئاب']['word_count'].mean()) \n",
    "print(df0[df0['label']=='القلق']['word_count'].mean())\n",
    "print(df0[df0['label']=='ميول انتحاريه']['word_count'].mean())\n",
    "print(\"charachter_count\\n\")\n",
    "#2. CHARACTER-COUNT \"sum the number of characters of each token\"\n",
    "df0['char_count'] = df0['text'].apply(lambda x: len(str(x)))\n",
    "print(df0[df0['label']=='اكتئاب']['char_count'].mean()) \n",
    "print(df0[df0['label']=='القلق']['char_count'].mean())\n",
    "print(df0[df0['label']=='ميول انتحاريه']['char_count'].mean())\n",
    "print(\"unique word_count\\n\")\n",
    "#3. UNIQUE WORD-COUNT\n",
    "df0['unique_word_count'] = df0['text'].apply(lambda x: len(set(str(x).split())))\n",
    "print(df0[df0['label']=='اكتئاب']['unique_word_count'].mean()) #Disaster tweets\n",
    "print(df0[df0['label']=='القلق']['unique_word_count'].mean()) \n",
    "print(df0[df0['label']=='ميول انتحاريه']['unique_word_count'].mean())#Non-Disaster tweets"
   ]
  },
  {
   "cell_type": "code",
   "execution_count": 9,
   "id": "0fbe711f",
   "metadata": {},
   "outputs": [],
   "source": [
    "df0['avg_word_length'] = df0['char_count'] / df0['word_count']"
   ]
  },
  {
   "cell_type": "code",
   "execution_count": 10,
   "id": "b9b100be",
   "metadata": {},
   "outputs": [
    {
     "data": {
      "image/png": "[encoded data removed]",
      "text/plain": [
       "<Figure size 720x288 with 2 Axes>"
      ]
     },
     "metadata": {},
     "output_type": "display_data"
    }
   ],
   "source": [
    "# plot char_count \"sum the number of characters of each token\"\n",
    "x= \"char_count\"\n",
    "fig, ax = plt.subplots(nrows=1, ncols=2,figsize=(10,4))\n",
    "fig.suptitle(x, fontsize=12)\n",
    "for i in df0['label'].unique():\n",
    "    sns.distplot(df0[df0['label']==i][x], hist=True, kde=False, \n",
    "                 bins=10, hist_kws={\"alpha\":0.8}, \n",
    "                 axlabel=\"histogram\", ax=ax[0])\n",
    "    sns.distplot(df0[df0['label']==i][x], hist=False, kde=True, \n",
    "                 kde_kws={\"shade\":True}, axlabel=\"density\",   \n",
    "                 ax=ax[1])\n",
    "ax[0].grid(True)\n",
    "ax[0].legend(df0['label'].unique())\n",
    "ax[1].grid(True)\n",
    "plt.show()"
   ]
  },
  {
   "cell_type": "code",
   "execution_count": 11,
   "id": "ad24a5c9",
   "metadata": {},
   "outputs": [
    {
     "data": {
      "image/png": "[encoded data removed]",
      "text/plain": [
       "<Figure size 720x288 with 3 Axes>"
      ]
     },
     "metadata": {},
     "output_type": "display_data"
    }
   ],
   "source": [
    "#Plotting word-count per sentence\n",
    "fig,ax =plt.subplots(nrows=1, ncols=3,figsize=(10,4))\n",
    "train_words=df0[df0['label']=='اكتئاب']['word_count']\n",
    "ax[0].hist(train_words,color='b')\n",
    "ax[0].set_title('اكتئاب')\n",
    "train_words=df0[df0['label']=='القلق']['word_count']\n",
    "ax[1].hist(train_words,color='g')\n",
    "ax[1].set_title('القلق')\n",
    "train_words=df0[df0['label']=='ميول انتحاريه']['word_count']\n",
    "ax[2].hist(train_words,color='r')\n",
    "ax[2].set_title('ميول انتحاريه')\n",
    "\n",
    "fig.suptitle(\"word-count\")\n",
    "plt.show()"
   ]
  },
  {
   "cell_type": "markdown",
   "id": "da7ceeba",
   "metadata": {},
   "source": [
    "# Pre-processing"
   ]
  },
  {
   "cell_type": "code",
   "execution_count": 12,
   "id": "88b404da",
   "metadata": {},
   "outputs": [],
   "source": [
    "#list of arabic_diacritics\"علامات التشكيل\"\n",
    "arabic_diacritics = re.compile(\"\"\"\n",
    "                             ّ    | # Tashdid\n",
    "                             َ    | # Fatha\n",
    "                             ً    | # Tanwin Fath\n",
    "                             ُ    | # Damma\n",
    "                             ٌ    | # Tanwin Damm\n",
    "                             ِ    | # Kasra\n",
    "                             ٍ    | # Tanwin Kasr\n",
    "                             ْ    | # Sukun\n",
    "                             ـ     # Tatwil/Kashida\n",
    "                              \"\"\", re.VERBOSE)"
   ]
  },
  {
   "cell_type": "code",
   "execution_count": 13,
   "id": "07f6ea04",
   "metadata": {},
   "outputs": [
    {
     "name": "stdout",
     "output_type": "stream",
     "text": [
      "['ذانِ', 'ذانك', 'ليت', 'يا', 'بما', 'اثنين', 'إياه', 'لكم', 'هكذا', 'أولالك', 'اخلولق', 'آذار', 'آناء', 'ثمان', 'دال', 'لعمر', 'رويدك', 'ريث', 'ثلاث', 'تاء', 'ذهب', 'أولئك', 'تانِ', 'انبرى', 'حيثما', 'أقل', 'درى', 'غداة', 'ك', 'ؤ', 'عين', 'ذِي', 'جويلية', 'هاته', 'أينما', 'هَؤلاء', 'بخ', 'عاد', 'كل', 'يفعلان', 'يفعلون', 'لك', 'إليكنّ', 'لكما', 'جلل', 'كلا', 'لكي', 'به', 'لعلَّ', 'اثنا', 'بؤسا', 'مكانَك', 'ثم', 'إياك', 'س', 'هنالك', 'سنتيم', 'حدَث', 'بهما', 'أربعة', 'وما', 'على', 'ثلاثاء', 'تسعون', 'متى', 'غين', 'بس', 'ثلاثون', 'صباح', 'اللذين', 'لا سيما', 'ثمانمئة', 'هيت', 'أغسطس', 'إلا', 'واهاً', 'تانِك', 'ذيت', 'آنفا', 'مازال', 'ديسمبر', 'شباط', 'زاي', 'يناير', 'هَذانِ', 'إياهن', 'إليك', 'غالبا', 'ثمانية', 'ميم', 'لهن', 'ظنَّ', 'آمينَ', 'أولاء', 'حمو', 'لولا', 'ولكن', 'صبرا', 'لن', 'إحدى', 'ستين', 'اللتيا', 'غادر', 'جنيه', 'خ', 'بئس', 'فيها', 'تفعلون', 'جمعة', 'بكن', 'معاذ', 'آض', 'لوما', 'نيسان', 'أمامك', 'خبَّر', 'مما', 'إياها', 'ذلك', 'لئن', 'هَاتانِ', 'تفعلان', 'تفعلين', 'حمدا', 'لي', 'لستم', 'غير', 'كانون', 'هَذا', 'عليه', 'شين', 'حبذا', 'لهما', 'شَتَّانَ', 'إذما', 'أيها', 'كاد', 'و', 'قام', 'هلّا', 'ثمانون', 'لهم', 'اللتين', 'ع', 'أجمع', 'أمّا', 'دواليك', 'أنتما', 'سبت', 'حاي', 'صراحة', 'هنا', 'فيه', 'اللتان', 'نحن', 'وراءَك', 'اثني', 'أمسى', 'سرعان', 'إياهما', 'جوان', 'صهْ', 'شبه', 'كليهما', 'إنا', 'بل', 'هذا', 'بسّ', 'تحوّل', 'ثمَّ', 'إذ', 'هاتي', 'ثاني', 'انقلب', 'أوه', 'ألف', 'هذه', 'ما انفك', 'هبّ', 'ها', 'هاتان', 'نوفمبر', 'مهما', 'عشرة', 'سبحان', 'ظلّ', 'ما برح', 'ط', 'راء', 'ترك', 'بنا', 'ذواتي', 'أل', 'مه', 'هَاتِه', 'بَسْ', 'أن', 'أي', 'أجل', 'أنى', 'مافتئ', 'مليم', 'منها', 'ثلاثمائة', 'سمعا', 'فمن', 'الألاء', 'إليكَ', 'منه', 'كأيّن', 'عما', 'آهاً', 'إياكم', 'في', 'هَاتِي', 'أف', 'لدى', 'جانفي', 'دونك', 'سوى', 'إلّا', 'كيفما', 'بين', 'صاد', 'كلّما', 'تعسا', 'ستون', 'كأين', 'ئ', 'آي', 'تَيْنِ', 'إذا', 'إياي', 'إليكم', 'قاف', 'يوان', 'هيا', 'سابع', 'أربعمائة', 'تي', 'ثان', 'ذلكم', 'الذين', 'ي', 'أُفٍّ', 'أخو', 'ص', 'خلافا', 'تِي', 'أهلا', 'مثل', 'مئة', 'خاء', 'آه', 'وإذ', 'أيّ', 'إن', 'أوشك', 'علم', 'ذان', 'هَجْ', 'قاطبة', 'هي', 'أنبأ', 'ثلاثين', 'شمال', 'آب', 'سبعين', 'هلا', 'ليسا', 'خميس', 'ارتدّ', 'تاسع', 'شتانَ', 'درهم', 'إنَّ', 'ذات', 'كما', 'علًّ', 'خمسة', 'د', 'ابتدأ', 'لها', 'بعدا', 'كذلك', 'حجا', 'طرا', 'ذاك', 'ظ', 'أنا', 'ألا', 'م', 'مئتان', 'لكيلا', 'لدن', 'حتى', 'ق', 'صهٍ', 'حرى', 'حاشا', 'دون', 'أيار', 'هاك', 'أربعاء', 'جعل', 'كم', 'سبع', 'ذال', 'هل', 'مارس', 'كذا', 'هناك', 'آ', 'الآن', 'استحال', 'أربعمئة', 'حسب', 'فيما', 'ى', 'كي', 'بَلْهَ', 'له', 'لسن', 'لو', 'تسعين', 'أبٌ', 'واو', 'ه', 'خمسمئة', 'ما أفعله', 'إنه', 'ذه', 'قرش', 'أنًّ', 'أضحى', 'تبدّل', 'أمد', 'وإن', 'أسكن', 'لكنَّ', 'لنا', 'ف', 'هذان', 'قلما', 'سبتمبر', 'يوليو', 'ذلكن', 'لست', 'ج', 'أوّهْ', 'نَّ', 'ذَيْنِ', 'بضع', 'لات', 'سحقا', 'أفعل به', 'حقا', 'أيّان', 'كان', 'اللواتي', 'ثلاثمئة', 'وهو', 'والذي', 'أبو', 'قد', 'عاشر', 'بها', 'بخٍ', 'ليس', 'تشرين', 'ظاء', 'أى', 'تحت', 'لكن', 'طالما', 'بمن', 'لسنا', 'رابع', 'ستة', 'عن', 'حادي', 'إلَيْكَ', 'سبعمئة', 'فيم', 'تارة', 'آهِ', 'ح', 'ذا', 'هذين', 'أخبر', 'بيد', 'إيهٍ', 'غدا', 'لاسيما', 'مكانكنّ', 'ثلاثة', 'بماذا', 'باء', 'تينك', 'عوض', 'عند', 'تموز', 'عشرين', 'إى', 'هاهنا', 'ذِه', 'الألى', 'من', 'أنّى', 'فلا', 'ولا', 'هَيْهات', 'عامة', 'كأنما', 'بعض', 'هاكَ', 'عجبا', 'بك', 'ثمانين', 'تخذ', 'أمامكَ', 'ر', 'مائة', 'كيت', 'فبراير', 'هَذَيْنِ', 'بلى', 'أما', 'جيم', 'مكانكما', 'كأن', 'نا', 'خامس', 'خاصة', 'هؤلاء', 'ماي', 'حار', 'سبعون', 'ءَ', 'نون', 'أفريل', 'فاء', 'ممن', 'ذينك', 'إيانا', 'نحو', 'إذاً', 'خلا', 'عل', 'ين', 'وَيْ', 'ضحوة', 'إياكما', 'ماذا', 'عشر', 'إذن', 'ثامن', 'اربعون', 'وُشْكَانَ', 'لبيك', 'شتان', 'نَخْ', 'سبعمائة', 'خمسين', 'ثمة', 'ليرة', 'ذ', 'فو', 'أكتوبر', 'غ', 'ز', 'لعل', 'طَق', 'رجع', 'أكثر', 'إمّا', 'جير', 'ثماني', 'أخذ', 'كرب', 'سين', 'دولار', 'فلان', 'زعم', 'لستن', 'تسعمائة', 'أين', 'ورد', 'تِه', 'هيهات', 'هللة', 'ض', 'كأيّ', 'لام', 'بكم', 'إياكن', 'هو', 'مرّة', 'كِخ', 'الذي', 'مع', 'ثمّ', 'نيف', 'طفق', 'دينار', 'خال', 'أحد', 'بي', 'اللائي', 'أيا', 'بغتة', 'كلتا', 'قبل', 'أول', 'عَدَسْ', 'هلم', 'أ', 'لستما', 'إلى', 'أيضا', 'إما', 'كيف', 'حبيب', 'والذين', 'منذ', 'أصلا', 'ا', 'واحد', 'عليك', 'ل', 'هاتين', 'مايو', 'اثنان', 'تلك', 'نبَّا', 'اللاتي', 'وهب', 'ّأيّان', 'حين', 'كثيرا', 'شيكل', 'إنما', 'هاء', 'هيّا', 'بكما', 'سقى', 'فوق', 'رأى', 'كأي', 'خمسون', 'تسعة', 'ن', 'كسا', 'رُبَّ', 'لمّا', 'نعم', 'اللذان', 'تعلَّم', 'صبر', 'تين', 'شرع', 'هَذِي', 'ذلكما', 'حزيران', 'بطآن', 'وإذا', 'جميع', 'كلاهما', 'مذ', 'فرادى', 'تجاه', 'كى', 'مساء', 'تلكما', 'يونيو', 'عسى', 'ساء', 'ثمّة', 'خلف', 'كلما', 'تلقاء', 'ست', 'تسعمئة', 'بهن', 'زود', 'إيه', 'تلكم', 'ت', 'لم', 'ولو', 'ش', 'فلس', 'خمس', 'أربع', 'علق', 'أقبل', 'أنت', 'فضلا', 'آها', 'هم', 'عشرون', 'هَذِه', 'أمس', 'ما', 'صار', 'إليكما', 'ثالث', 'سوف', 'إياهم', 'هَاتَيْنِ', 'ثاء', 'قطّ', 'يمين', 'ذوا', 'بات', 'ريال', 'خمسمائة', 'ء', 'فإن', 'ثمنمئة', 'تسع', 'أيلول', 'أنتم', 'هن', 'ذي', 'أفٍّ', 'آهٍ', 'أعطى', 'ضاد', 'أنشأ', 'أم', 'ذواتا', 'كلَّا', 'ليسوا', 'التي', 'أمام', 'إي', 'حمٌ', 'ستمئة', 'فيفري', 'اتخذ', 'هما', 'نفس', 'لما', 'اربعين', 'ذو', 'أطعم', 'حاء', 'صدقا', 'سبعة', 'راح', 'حيَّ', 'إزاء', 'سرا', 'بهم', 'يورو', 'عدا', 'إليكن', 'ليست', 'أو', 'ث', 'حَذارِ', 'فإذا', 'سادس', 'هذي', 'ذين', 'أخٌ', 'كن', 'أصبح', 'أنتِ', 'أوت', 'لا', 'كأنّ', 'أعلم', 'كليكما', 'ليستا', 'رزق', 'طاء', 'ته', 'ة', 'كاف', 'طاق', 'ومن', 'ألفى', 'عدَّ', 'عيانا', 'وجد', 'وا', 'لكنما', 'ستمائة', 'بعد', 'أبدا', 'ب', 'مكانكم', 'همزة', 'مادام', 'ياء', 'حيث', 'أبريل', 'أنتن', 'أرى']\n"
     ]
    }
   ],
   "source": [
    "stop_words = list(set(stopwords.words('arabic')))\n",
    "print(stop_words)"
   ]
  },
  {
   "cell_type": "code",
   "execution_count": 14,
   "id": "402372a5",
   "metadata": {
    "scrolled": true
   },
   "outputs": [
    {
     "name": "stdout",
     "output_type": "stream",
     "text": [
      "apply regular expressison\n",
      "\n",
      " حاسس انى هنت حاسس بالاكتئاب بسبب انى مش مرغوب فيه حاسس بالاكتئاب والإحباط بسبب المشاكل و الفشل مش عارف اركز ولا عارف الاقي لحظه هدوء افكاري حاسس بالاكتئاب واليأس والدنيا أسودت فى وشي وال معنديش اي اصدقاء وانا من زعلانه من دا وبسال ن حاسه بقلق وتوتر بسبب المماطله ولكن باين كدا ان حاسه بانى حطام مش هقدر اعمل حاجه وحاسه بالاحب العالم ليس له معنىحاسه انى فقدت نفسي واصحابي حاسس بالاكتئاب والحزن لما بلاقي حياتي بتنهارقد Name text Length dtype object\n"
     ]
    }
   ],
   "source": [
    "#apply regular expressison\n",
    "print(\"apply regular expressison\\n\")\n",
    "data=df0['text']\n",
    "def preprocess(data):\n",
    "    \n",
    "    #text=text.strip()  #get rid of leading/trailing whitespace \n",
    "    data=re.compile('<.*?>').sub('', data) #Remove HTML tags/markups\n",
    "\n",
    "    data = re.sub(arabic_diacritics, '', data)\n",
    "    data = re.compile('[%s]' % re.escape(string.punctuation)).sub(' ', data)  #Replace punctuation with space. Careful since punctuation can sometime be useful\n",
    "    data = re.sub('\\s+', ' ', data)  #Remove extra space and tabs\n",
    "    data = re.sub(r'\\[[0-9]*\\]',' ',data) #[0-9] matches any digit (0 to 10000...)\n",
    "    data=re.sub(r'[^\\w\\s]', '', str(data).strip())\n",
    "    data = re.sub(r'\\d',' ',data) #matches any digit from 0 to 100000..., \\D matches non-digits\n",
    "    data = re.sub(r'\\s+',' ',data) #\\s matches any whitespace, \\s+ matches multiple whitespace, \\S matches non-whitespace \n",
    "    \n",
    "    return data\n",
    "data=preprocess(str(data))\n",
    "print(data)\n"
   ]
  },
  {
   "cell_type": "code",
   "execution_count": 15,
   "id": "6b6ec8e8",
   "metadata": {},
   "outputs": [
    {
     "name": "stdout",
     "output_type": "stream",
     "text": [
      "remove emoji\n",
      "\n",
      " حاسس انى هنت حاسس بالاكتئاب بسبب انى مش مرغوب فيه حاسس بالاكتئاب والإحباط بسبب المشاكل و الفشل مش عارف اركز ولا عارف الاقي لحظه هدوء افكاري حاسس بالاكتئاب واليأس والدنيا أسودت فى وشي وال معنديش اي اصدقاء وانا من زعلانه من دا وبسال ن حاسه بقلق وتوتر بسبب المماطله ولكن باين كدا ان حاسه بانى حطام مش هقدر اعمل حاجه وحاسه بالاحب العالم ليس له معنىحاسه انى فقدت نفسي واصحابي حاسس بالاكتئاب والحزن لما بلاقي حياتي بتنهارقد Name text Length dtype object\n",
      "\n",
      "remove stopwords\n",
      "\n",
      "حاسس انى هنت حاسس بالاكتئاب بسبب انى مش مرغوب حاسس بالاكتئاب والإحباط بسبب المشاكل الفشل مش عارف اركز عارف الاقي لحظه هدوء افكاري حاسس بالاكتئاب واليأس والدنيا أسودت فى وشي وال معنديش اي اصدقاء وانا زعلانه دا وبسال حاسه بقلق وتوتر بسبب المماطله باين كدا ان حاسه بانى حطام مش هقدر اعمل حاجه وحاسه بالاحب العالم معنىحاسه انى فقدت نفسي واصحابي حاسس بالاكتئاب والحزن بلاقي حياتي بتنهارقد Name text Length dtype object\n",
      "\n",
      " stemmed text\n",
      "\n",
      "حسس انى هنت حسس كئب سبب انى مش رغب فيه حسس كئب حبط سبب شكل و فشل مش عرف ركز ولا عرف اقي لحظ هدء فكر حسس كئب يأس دنا اسد فى وشي وال معنديش اي صدقاء ونا من زعل من دا بسل ن حسه قلق وتر سبب مطل ولكن بين كدا ان حسه بنى حطم مش هقدر عمل حجه وحس احب علم ليس له معنىحاسه انى فقد نفس صحب حسس كئب حزن لما بلق حيت بتنهارقد Name text Length dtype object\n"
     ]
    }
   ],
   "source": [
    "#remove emoji\n",
    "print(\"remove emoji\\n\")\n",
    "def remove_emoji(data):\n",
    "    t = re.compile(pattern = \"[\"\n",
    "        u\"\\U0001F600-\\U0001F64F\"  # emoticons\n",
    "        u\"\\U0001F300-\\U0001F5FF\"  # symbols & pictographs\n",
    "        u\"\\U0001F680-\\U0001F6FF\"  # transport & map symbols\n",
    "        u\"\\U0001F1E0-\\U0001F1FF\"  # flags (iOS)\n",
    "                           \"]+\", flags = re.UNICODE)\n",
    "    return t.sub(r'',data)\n",
    "text=remove_emoji(str(data))\n",
    "print(text)\n",
    "\n",
    "#remove stopwords\n",
    "print(\"\\nremove stopwords\\n\")\n",
    "def stopword(data):\n",
    "    a= [i for i in data.split() if i not in stopwords.words('arabic')]\n",
    "    return ' '.join(a)\n",
    "\n",
    "text=stopword(str(data))\n",
    "print(text)\n",
    "\n",
    "\n",
    "#stem words\n",
    "print(\"\\n stemmed text\\n\")\n",
    "st = ISRIStemmer()\n",
    "def stemming(data):\n",
    "    a=[st.stem(i) for i in word_tokenize(data) ]\n",
    "    return ' '.join(a)\n",
    "text=stemming(str(data))\n",
    "print(text)\n",
    "\n"
   ]
  },
  {
   "cell_type": "code",
   "execution_count": 16,
   "id": "89c99880",
   "metadata": {},
   "outputs": [
    {
     "data": {
      "text/plain": [
       "label                category\n",
       "text                   object\n",
       "length                  int64\n",
       "word_count              int64\n",
       "char_count              int64\n",
       "unique_word_count       int64\n",
       "avg_word_length       float64\n",
       "target               category\n",
       "dtype: object"
      ]
     },
     "execution_count": 16,
     "metadata": {},
     "output_type": "execute_result"
    }
   ],
   "source": [
    "#create target column\n",
    "df0[\"label\"] = df0[\"label\"].astype('category')\n",
    "df0.dtypes\n",
    "df0[\"target\"] = df0[\"label\"].cat.codes\n",
    "df0[\"target\"].value_counts()\n",
    "df0[\"target\"] = df0[\"target\"].astype('category')\n",
    "df0.dtypes"
   ]
  },
  {
   "cell_type": "code",
   "execution_count": 17,
   "id": "b7a8fdc3",
   "metadata": {},
   "outputs": [
    {
     "data": {
      "text/plain": [
       "23495"
      ]
     },
     "execution_count": 17,
     "metadata": {},
     "output_type": "execute_result"
    }
   ],
   "source": [
    "#num of words before cleaning\n",
    "df0['text'].apply(lambda x: len(x.split(' '))).sum()"
   ]
  },
  {
   "cell_type": "code",
   "execution_count": 18,
   "id": "2b1ca23e",
   "metadata": {},
   "outputs": [
    {
     "data": {
      "text/html": [
       "<div>\n",
       "<style scoped>\n",
       "    .dataframe tbody tr th:only-of-type {\n",
       "        vertical-align: middle;\n",
       "    }\n",
       "\n",
       "    .dataframe tbody tr th {\n",
       "        vertical-align: top;\n",
       "    }\n",
       "\n",
       "    .dataframe thead th {\n",
       "        text-align: right;\n",
       "    }\n",
       "</style>\n",
       "<table border=\"1\" class=\"dataframe\">\n",
       "  <thead>\n",
       "    <tr style=\"text-align: right;\">\n",
       "      <th></th>\n",
       "      <th>label</th>\n",
       "      <th>text</th>\n",
       "      <th>target</th>\n",
       "      <th>clean_text</th>\n",
       "    </tr>\n",
       "  </thead>\n",
       "  <tbody>\n",
       "    <tr>\n",
       "      <th>0</th>\n",
       "      <td>اكتئاب</td>\n",
       "      <td>#$حاسس انى هنت</td>\n",
       "      <td>0</td>\n",
       "      <td>حسس انى هنت</td>\n",
       "    </tr>\n",
       "    <tr>\n",
       "      <th>1</th>\n",
       "      <td>اكتئاب</td>\n",
       "      <td>حاسس بالاكتئاب بسبب انى مش مرغوب فيه</td>\n",
       "      <td>0</td>\n",
       "      <td>حسس كئب سبب انى مش رغب</td>\n",
       "    </tr>\n",
       "    <tr>\n",
       "      <th>2</th>\n",
       "      <td>اكتئاب</td>\n",
       "      <td>حاسس  بالاكتئاب والإحباط بسبب المشاكل و الفشل</td>\n",
       "      <td>0</td>\n",
       "      <td>حسس كئب حبط سبب شكل فشل</td>\n",
       "    </tr>\n",
       "    <tr>\n",
       "      <th>3</th>\n",
       "      <td>اكتئاب</td>\n",
       "      <td>مش عارف اركز ولا  عارف الاقي لحظه هدوء, افكاري...</td>\n",
       "      <td>0</td>\n",
       "      <td>مش عرف ركز عرف اقي لحظ هدء فكر خنق عقل وكه يجر...</td>\n",
       "    </tr>\n",
       "    <tr>\n",
       "      <th>4</th>\n",
       "      <td>اكتئاب</td>\n",
       "      <td>حاسس بالاكتئاب واليأس والدنيا أسودت فى وشي وال...</td>\n",
       "      <td>0</td>\n",
       "      <td>حسس كئب يأس دنا اسد فى وشي حية لهش عنى</td>\n",
       "    </tr>\n",
       "    <tr>\n",
       "      <th>...</th>\n",
       "      <td>...</td>\n",
       "      <td>...</td>\n",
       "      <td>...</td>\n",
       "      <td>...</td>\n",
       "    </tr>\n",
       "    <tr>\n",
       "      <th>1795</th>\n",
       "      <td>القلق</td>\n",
       "      <td>معنديش اي اصدقاء وانا من زعلانه من دا وبسال ن...</td>\n",
       "      <td>1</td>\n",
       "      <td>معنديش اي صدقاء ونا زعل دا بسل نفس انا لزم عمل...</td>\n",
       "    </tr>\n",
       "    <tr>\n",
       "      <th>1796</th>\n",
       "      <td>القلق</td>\n",
       "      <td>حاسه بقلق وتوتر بسبب المماطله ولكن باين كدا ان...</td>\n",
       "      <td>1</td>\n",
       "      <td>حسه قلق وتر سبب مطل بين كدا ان ده للى هعمل داي</td>\n",
       "    </tr>\n",
       "    <tr>\n",
       "      <th>1797</th>\n",
       "      <td>القلق</td>\n",
       "      <td>حاسه بانى حطام مش هقدر اعمل حاجه، وحاسه بالاحب...</td>\n",
       "      <td>1</td>\n",
       "      <td>حسه بنى حطم مش هقدر عمل حجه وحس حبط قلق وحس ان...</td>\n",
       "    </tr>\n",
       "    <tr>\n",
       "      <th>1798</th>\n",
       "      <td>القلق</td>\n",
       "      <td>العالم ليس له معنى،حاسه انى فقدت نفسي واصحابي...</td>\n",
       "      <td>1</td>\n",
       "      <td>علم معنىحاسه انى فقد نفس صحب بقش عند حمس لحج ح...</td>\n",
       "    </tr>\n",
       "    <tr>\n",
       "      <th>1799</th>\n",
       "      <td>اكتئاب</td>\n",
       "      <td>حاسس بالاكتئاب والحزن لما بلاقي حياتي بتنهارقد...</td>\n",
       "      <td>0</td>\n",
       "      <td>حسس كئب حزن بلق حيت بتنهارقدامي ونا مش عرف عمل...</td>\n",
       "    </tr>\n",
       "  </tbody>\n",
       "</table>\n",
       "<p>1800 rows × 4 columns</p>\n",
       "</div>"
      ],
      "text/plain": [
       "       label                                               text target  \\\n",
       "0     اكتئاب                                     #$حاسس انى هنت      0   \n",
       "1     اكتئاب               حاسس بالاكتئاب بسبب انى مش مرغوب فيه      0   \n",
       "2     اكتئاب     حاسس  بالاكتئاب والإحباط بسبب المشاكل و الفشل       0   \n",
       "3     اكتئاب  مش عارف اركز ولا  عارف الاقي لحظه هدوء, افكاري...      0   \n",
       "4     اكتئاب  حاسس بالاكتئاب واليأس والدنيا أسودت فى وشي وال...      0   \n",
       "...      ...                                                ...    ...   \n",
       "1795   القلق   معنديش اي اصدقاء وانا من زعلانه من دا وبسال ن...      1   \n",
       "1796   القلق  حاسه بقلق وتوتر بسبب المماطله ولكن باين كدا ان...      1   \n",
       "1797   القلق  حاسه بانى حطام مش هقدر اعمل حاجه، وحاسه بالاحب...      1   \n",
       "1798   القلق   العالم ليس له معنى،حاسه انى فقدت نفسي واصحابي...      1   \n",
       "1799  اكتئاب  حاسس بالاكتئاب والحزن لما بلاقي حياتي بتنهارقد...      0   \n",
       "\n",
       "                                             clean_text  \n",
       "0                                           حسس انى هنت  \n",
       "1                                حسس كئب سبب انى مش رغب  \n",
       "2                               حسس كئب حبط سبب شكل فشل  \n",
       "3     مش عرف ركز عرف اقي لحظ هدء فكر خنق عقل وكه يجر...  \n",
       "4                حسس كئب يأس دنا اسد فى وشي حية لهش عنى  \n",
       "...                                                 ...  \n",
       "1795  معنديش اي صدقاء ونا زعل دا بسل نفس انا لزم عمل...  \n",
       "1796     حسه قلق وتر سبب مطل بين كدا ان ده للى هعمل داي  \n",
       "1797  حسه بنى حطم مش هقدر عمل حجه وحس حبط قلق وحس ان...  \n",
       "1798  علم معنىحاسه انى فقد نفس صحب بقش عند حمس لحج ح...  \n",
       "1799  حسس كئب حزن بلق حيت بتنهارقدامي ونا مش عرف عمل...  \n",
       "\n",
       "[1800 rows x 4 columns]"
      ]
     },
     "execution_count": 18,
     "metadata": {},
     "output_type": "execute_result"
    }
   ],
   "source": [
    "#final preprocessing function\n",
    "def finalpreprocess(data):\n",
    "    dd=stemming(stopword( remove_emoji(preprocess(data))))\n",
    "    return str(dd)\n",
    "\n",
    "df0['clean_text'] = df0['text'].apply(lambda x: finalpreprocess(x))\n",
    "df0['target']\n",
    "\n",
    "\n",
    "df0=df0.drop(columns=['length','avg_word_length'])\n",
    "df0.head()\n",
    "df0.drop(['word_count','char_count','unique_word_count'], axis = 1)"
   ]
  },
  {
   "cell_type": "code",
   "execution_count": 19,
   "id": "9c39df0d",
   "metadata": {},
   "outputs": [
    {
     "data": {
      "text/plain": [
       "19307"
      ]
     },
     "execution_count": 19,
     "metadata": {},
     "output_type": "execute_result"
    }
   ],
   "source": [
    "#num of words after cleaning\n",
    "df0['clean_text'].apply(lambda x: len(x.split(' '))).sum()"
   ]
  },
  {
   "cell_type": "markdown",
   "id": "bfc59419",
   "metadata": {},
   "source": [
    "# Feature Engineering"
   ]
  },
  {
   "cell_type": "code",
   "execution_count": 20,
   "id": "f3c8b191",
   "metadata": {},
   "outputs": [],
   "source": [
    "#create bag of words model\n",
    "cv=CountVectorizer()\n",
    "x=cv.fit_transform(df0['clean_text']).toarray()\n",
    "import pandas\n",
    "dataframe_array= pandas.DataFrame(x)\n",
    "dataframe_array.to_csv(r\"I:\\bow.csv\")"
   ]
  },
  {
   "cell_type": "code",
   "execution_count": 21,
   "id": "45a31457",
   "metadata": {},
   "outputs": [],
   "source": [
    "#create tf-idf model\n",
    "tf=TfidfVectorizer()\n",
    "y=tf.fit_transform(df0['clean_text']).toarray()\n",
    "df_tf=pandas.DataFrame(y)\n",
    "dataframe_array.to_csv(r\"I:\\tfidf.csv\")"
   ]
  },
  {
   "cell_type": "code",
   "execution_count": 22,
   "id": "035a5e48",
   "metadata": {},
   "outputs": [],
   "source": [
    "# create Word2vec model\n",
    "df0['clean_text_tok']=[nltk.word_tokenize(i) for i in df0['clean_text']] \n",
    "model = Word2Vec(df0['clean_text_tok'],min_count=2)  \n",
    "\n",
    "w2v = dict(zip(model.wv.index2word, model.wv.vectors))  \n",
    "class MeanEmbeddingVectorizer():\n",
    "    def __init__(self, word2vec):\n",
    "        self.word2vec = word2vec\n",
    "        # if a text is empty we should return a vector of zeros\n",
    "        # with the same dimensionality as all the other vectors\n",
    "        self.dim = len(next(iter(word2vec.values())))\n",
    "\n",
    "    def fit(self, X, y):\n",
    "        return self\n",
    "\n",
    "    def transform(self, X):\n",
    "        return np.array([\n",
    "            np.mean([self.word2vec[w] for w in words if w in self.word2vec]\n",
    "                    or [np.zeros(self.dim)], axis=0)\n",
    "            for words in X\n",
    "        ])\n"
   ]
  },
  {
   "cell_type": "markdown",
   "id": "c9430a80",
   "metadata": {},
   "source": [
    "# Split the Data "
   ]
  },
  {
   "cell_type": "code",
   "execution_count": 23,
   "id": "f4a88f07",
   "metadata": {},
   "outputs": [],
   "source": [
    "\n",
    "X_train, X_val, y_train, y_val = train_test_split(df0[\"clean_text\"],\n",
    "                                                  df0[\"target\"],\n",
    "                                                  test_size=0.33,\n",
    "                                                  random_state=42, \n",
    "                                                  shuffle=True\n",
    "                                                 )\n",
    "X_train_tok= [nltk.word_tokenize(i) for i in X_train]  \n",
    "X_val_tok= [nltk.word_tokenize(i) for i in X_val]      #for word2vec\n",
    "\n",
    "#TF-IDF\n",
    "tfidf_vectorizer = TfidfVectorizer(use_idf=True)\n",
    "X_train_vectors_tfidf = tfidf_vectorizer.fit_transform(X_train) \n",
    "\n",
    "X_val_vectors_tfidf = tfidf_vectorizer.transform(X_val) \n",
    "\n",
    "#Word2vec\n",
    "modelw = MeanEmbeddingVectorizer(w2v)\n",
    "X_train_vectors_w2v = modelw.transform(X_train_tok)\n",
    "X_val_vectors_w2v = modelw.transform(X_val_tok)\n",
    "\n",
    "#BOW\n",
    "cv=CountVectorizer()\n",
    "X_train_vectors_bow = cv.fit_transform(X_train)\n",
    "X_val_vectors_bow = cv.transform(X_val)"
   ]
  },
  {
   "cell_type": "code",
   "execution_count": 24,
   "id": "b8d2c285",
   "metadata": {},
   "outputs": [],
   "source": [
    "le = LabelEncoder()\n",
    "y_train = le.fit_transform(y_train)"
   ]
  },
  {
   "cell_type": "code",
   "execution_count": 25,
   "id": "2a5f8290",
   "metadata": {},
   "outputs": [],
   "source": [
    "le1 = LabelEncoder()\n",
    "y_val = le1.fit_transform(y_val)"
   ]
  },
  {
   "cell_type": "code",
   "execution_count": 26,
   "id": "25a1cac7",
   "metadata": {},
   "outputs": [
    {
     "name": "stdout",
     "output_type": "stream",
     "text": [
      "(1206, 1902)\n",
      "(594, 1902)\n"
     ]
    }
   ],
   "source": [
    "print(X_train_vectors_bow.shape)\n",
    "print(X_val_vectors_bow.shape)"
   ]
  },
  {
   "cell_type": "code",
   "execution_count": 27,
   "id": "8fc96c83",
   "metadata": {},
   "outputs": [
    {
     "name": "stdout",
     "output_type": "stream",
     "text": [
      "1206\n",
      "594\n"
     ]
    }
   ],
   "source": [
    "print(len(X_train))\n",
    "print(len(X_val))\n",
    "      \n"
   ]
  },
  {
   "cell_type": "code",
   "execution_count": 28,
   "id": "9f2f6678",
   "metadata": {},
   "outputs": [],
   "source": [
    "x_train1= tfidf_vectorizer.fit_transform(X_train)\n",
    "x_val1=tfidf_vectorizer.transform(X_val)"
   ]
  },
  {
   "cell_type": "markdown",
   "id": "9661d436",
   "metadata": {},
   "source": [
    "# Machine Learning methods "
   ]
  },
  {
   "cell_type": "code",
   "execution_count": 29,
   "id": "abe7852c",
   "metadata": {},
   "outputs": [],
   "source": [
    "#Machine Learning methods for bow & tf-idf\n",
    "models = []\n",
    "models.append(('K Nearest Neighbors', KNeighborsClassifier(n_neighbors=13, weights='uniform', algorithm='auto', leaf_size=30, p=2)))\n",
    "models.append(('Decision Tree', DecisionTreeClassifier()))\n",
    "models.append(('Random Forest',RandomForestClassifier(max_depth=5, n_estimators=10, max_features=1)))\n",
    "models.append(('Logistic Regression', LogisticRegression(solver = 'liblinear',C=10,penalty = 'l2')))\n",
    "models.append(('Naive Bayes', MultinomialNB()))\n",
    "models.append(('SVM', SVC(C=1.0, kernel='linear', degree=11, gamma='auto',probability=True)))"
   ]
  },
  {
   "cell_type": "code",
   "execution_count": 30,
   "id": "5ad4419c",
   "metadata": {},
   "outputs": [],
   "source": [
    "#Machine Learning methods for w2v\n",
    "modelss = []\n",
    "modelss.append(('K Nearest Neighbors', KNeighborsClassifier(n_neighbors=13, weights='uniform', algorithm='auto', leaf_size=30, p=2)))\n",
    "modelss.append(('Decision Tree', DecisionTreeClassifier()))\n",
    "modelss.append(('Random Forest',RandomForestClassifier(max_depth=5, n_estimators=10, max_features=1)))\n",
    "modelss.append(('Logistic Regression', LogisticRegression(solver = 'liblinear',C=10,penalty = 'l2')))\n",
    "modelss.append(('SVM', SVC(C=1.0, kernel='linear', degree=11, gamma='auto',probability=True)))"
   ]
  },
  {
   "cell_type": "markdown",
   "id": "840f61cc",
   "metadata": {},
   "source": [
    "# k-fold cross validation"
   ]
  },
  {
   "cell_type": "code",
   "execution_count": 31,
   "id": "f74c96a7",
   "metadata": {},
   "outputs": [
    {
     "name": "stdout",
     "output_type": "stream",
     "text": [
      "K Nearest Neighbors: 0.529910 (0.052196)\n",
      "Decision Tree: 0.796040 (0.048463)\n",
      "Random Forest: 0.373051 (0.039672)\n",
      "Logistic Regression: 0.818402 (0.040267)\n",
      "Naive Bayes: 0.752975 (0.040950)\n",
      "SVM: 0.810923 (0.037279)\n"
     ]
    },
    {
     "data": {
      "image/png": "[encoded data removed]",
      "text/plain": [
       "<Figure size 432x288 with 1 Axes>"
      ]
     },
     "metadata": {},
     "output_type": "display_data"
    }
   ],
   "source": [
    "# evaluate each model in turn\n",
    "results = []\n",
    "names = []\n",
    "scoring = 'accuracy'\n",
    "for name, model in models:\n",
    "    kfold = model_selection.KFold(n_splits=10)\n",
    "    cv_results = model_selection.cross_val_score(model, X_train_vectors_bow, y_train, cv=kfold, scoring=scoring)\n",
    "    results.append(cv_results)\n",
    "    names.append(name)\n",
    "    msg = \"%s: %f (%f)\" % (name, cv_results.mean(), cv_results.std())\n",
    "    print(msg)\n",
    "# boxplot algorithm comparison\n",
    "fig = plt.figure()\n",
    "fig.suptitle('Comparison between different MLAs')\n",
    "ax = fig.add_subplot(111)\n",
    "plt.boxplot(results)\n",
    "ax.set_xticklabels(names)\n",
    "plt.show()"
   ]
  },
  {
   "cell_type": "markdown",
   "id": "c65104d3",
   "metadata": {},
   "source": [
    "# MLAs with tf-idf "
   ]
  },
  {
   "cell_type": "code",
   "execution_count": 32,
   "id": "293c1cf2",
   "metadata": {},
   "outputs": [
    {
     "name": "stdout",
     "output_type": "stream",
     "text": [
      "K Nearest Neighbors Accuracy: 0.9175474984377701\n",
      "Decision Tree Accuracy: 0.8098599976067967\n",
      "Random Forest Accuracy: 0.5985069070506428\n",
      "Logistic Regression Accuracy: 0.9510324013136028\n",
      "Naive Bayes Accuracy: 0.9527874170688578\n",
      "SVM Accuracy: 0.9500751199925545\n"
     ]
    }
   ],
   "source": [
    "for name, model in models:\n",
    "    model.fit(X_train_vectors_tfidf, y_train) \n",
    "    y_predict = model.predict(X_val_vectors_tfidf)\n",
    "    y_prob = model.predict_proba(X_val_vectors_tfidf)[:,1]\n",
    " \n",
    "    fpr,tpr,thresholds = metrics.roc_curve(y_val, y_prob,pos_label=1)\n",
    "    roc_auc = auc(fpr, tpr)\n",
    "    print(\"{} Accuracy: {}\".format(name, roc_auc))\n",
    "   "
   ]
  },
  {
   "cell_type": "markdown",
   "id": "f121d823",
   "metadata": {},
   "source": [
    "# MLAs with bow"
   ]
  },
  {
   "cell_type": "code",
   "execution_count": 33,
   "id": "a01d2642",
   "metadata": {},
   "outputs": [
    {
     "name": "stdout",
     "output_type": "stream",
     "text": [
      "K Nearest Neighbors Accuracy: 0.8351481791711539\n",
      "Decision Tree Accuracy: 0.8341709544892506\n",
      "Random Forest Accuracy: 0.5799662292422854\n",
      "Logistic Regression Accuracy: 0.9430151702498238\n",
      "Naive Bayes Accuracy: 0.961323175514871\n",
      "SVM Accuracy: 0.9390663848005\n"
     ]
    }
   ],
   "source": [
    "for name, model in models:\n",
    "    model.fit(X_train_vectors_bow, y_train) \n",
    "    y_predict = model.predict(X_val_vectors_bow)\n",
    "    y_prob = model.predict_proba(X_val_vectors_bow)[:,1]\n",
    "    \n",
    "    #print(classification_report(y_val,y_predict))\n",
    "    #print('Confusion Matrix:',confusion_matrix(y_val, y_predict))\n",
    " \n",
    "    fpr,tpr,thresholds = metrics.roc_curve(y_val, y_prob,pos_label=1)\n",
    "    roc_auc = auc(fpr, tpr)\n",
    "    print(\"{} Accuracy: {}\".format(name, roc_auc))\n",
    "   \n",
    "   "
   ]
  },
  {
   "cell_type": "markdown",
   "id": "ec20f7a8",
   "metadata": {},
   "source": [
    "# MLAs with W2vec"
   ]
  },
  {
   "cell_type": "code",
   "execution_count": 34,
   "id": "67c050cf",
   "metadata": {},
   "outputs": [
    {
     "name": "stdout",
     "output_type": "stream",
     "text": [
      "K Nearest Neighbors Accuracy: 0.5868533365242712\n",
      "Decision Tree Accuracy: 0.5425391887040805\n",
      "Random Forest Accuracy: 0.5837355244439126\n",
      "Logistic Regression Accuracy: 0.6192413545530693\n",
      "SVM Accuracy: 0.5229548083443022\n"
     ]
    }
   ],
   "source": [
    "for name, model in modelss:\n",
    "    model.fit(X_train_vectors_w2v, y_train) \n",
    "    y_predict = model.predict(X_val_vectors_w2v)\n",
    "    y_prob = model.predict_proba(X_val_vectors_w2v)[:,1]\n",
    " \n",
    "    fpr,tpr,thresholds = metrics.roc_curve(y_val, y_prob,pos_label=1)\n",
    "    roc_auc = auc(fpr, tpr)\n",
    "    print(\"{} Accuracy: {}\".format(name, roc_auc))\n",
    "   "
   ]
  },
  {
   "cell_type": "markdown",
   "id": "91ff0d3a",
   "metadata": {},
   "source": [
    "# Naive Bayes with Hyperparameter tuning"
   ]
  },
  {
   "cell_type": "code",
   "execution_count": 35,
   "id": "82c58a3e",
   "metadata": {},
   "outputs": [
    {
     "name": "stdout",
     "output_type": "stream",
     "text": [
      "MultinomialNB Accuracy is: 0.961323175514871\n",
      "              precision    recall  f1-score   support\n",
      "\n",
      "           0       0.75      0.57      0.65       201\n",
      "           1       0.86      0.83      0.84       183\n",
      "           2       0.73      0.92      0.82       210\n",
      "\n",
      "    accuracy                           0.77       594\n",
      "   macro avg       0.78      0.77      0.77       594\n",
      "weighted avg       0.78      0.77      0.77       594\n",
      "\n",
      "Confusion Matrix: [[115  22  64]\n",
      " [ 24 151   8]\n",
      " [ 14   2 194]]\n"
     ]
    }
   ],
   "source": [
    "#FITTING THE CLASSIFICATION MODEL using Naive Bayes(bow)\n",
    "model=MultinomialNB(alpha=1)\n",
    "                                 \n",
    "model.fit(X_train_vectors_bow, y_train) \n",
    "y_predict = model.predict(X_val_vectors_bow)\n",
    "y_prob = model.predict_proba(X_val_vectors_bow)[:,1]\n",
    "\n",
    "fpr,tpr,thresholds = metrics.roc_curve(y_val, y_prob,pos_label=1)\n",
    "roc_auc = auc(fpr, tpr)\n",
    "print(\"MultinomialNB Accuracy is:\", roc_auc)\n",
    "print(classification_report(y_val,y_predict))\n",
    "print('Confusion Matrix:',confusion_matrix(y_val, y_predict))"
   ]
  },
  {
   "cell_type": "code",
   "execution_count": 36,
   "id": "cfb16834",
   "metadata": {},
   "outputs": [
    {
     "data": {
      "text/plain": [
       "GridSearchCV(cv=5, estimator=MultinomialNB(alpha=1),\n",
       "             param_grid={'alpha': [0.01, 0.1, 1, 10, 100]},\n",
       "             return_train_score=True, scoring='accuracy')"
      ]
     },
     "execution_count": 36,
     "metadata": {},
     "output_type": "execute_result"
    }
   ],
   "source": [
    "alpha_ranges = {\"alpha\":[10**-2,10**-1,10**0,10**1,10**2]}\n",
    "grid_search =GridSearchCV(model , param_grid = alpha_ranges ,scoring= \"accuracy\",cv=5,return_train_score = True)\n",
    "grid_search.fit(X_train_vectors_bow,y_train)"
   ]
  },
  {
   "cell_type": "code",
   "execution_count": 37,
   "id": "399b5ee1",
   "metadata": {},
   "outputs": [],
   "source": [
    "alpha = [10**-2,10**-1,10**0,10**1,10**2]\n",
    "train_acc = grid_search.cv_results_['mean_train_score']\n",
    "train_std = grid_search.cv_results_['std_train_score']\n",
    "test_acc = grid_search.cv_results_['mean_test_score']\n",
    "test_std = grid_search.cv_results_['std_test_score']"
   ]
  },
  {
   "cell_type": "code",
   "execution_count": 38,
   "id": "75b2b108",
   "metadata": {},
   "outputs": [
    {
     "data": {
      "image/png": "[encoded data removed]",
      "text/plain": [
       "<Figure size 432x288 with 1 Axes>"
      ]
     },
     "metadata": {},
     "output_type": "display_data"
    }
   ],
   "source": [
    "# Plot mean accuracy scores for training and testing scores\n",
    "plt.plot(alpha, train_acc,\n",
    "     label = \"Training Score\", color = 'b')\n",
    "plt.plot(alpha, test_acc,\n",
    "   label = \"Cross Validation Score\", color = 'r')\n",
    "\n",
    " \n",
    "# Creating the plot\n",
    "plt.title(\"Validation Curve with Naive Bayes Classifier\")\n",
    "plt.xlabel(\"alpha\")\n",
    "plt.ylabel(\"Accuracy\")\n",
    "plt.tight_layout()\n",
    "plt.legend(loc = 'best')\n",
    "plt.show()"
   ]
  },
  {
   "cell_type": "code",
   "execution_count": 39,
   "id": "c8630a27",
   "metadata": {},
   "outputs": [
    {
     "data": {
      "text/plain": [
       "MultinomialNB(alpha=1)"
      ]
     },
     "execution_count": 39,
     "metadata": {},
     "output_type": "execute_result"
    }
   ],
   "source": [
    "grid_search.best_estimator_\n"
   ]
  },
  {
   "cell_type": "code",
   "execution_count": 40,
   "id": "888e49b4",
   "metadata": {},
   "outputs": [
    {
     "data": {
      "text/plain": [
       "array([0, 1, 2], dtype=int64)"
      ]
     },
     "execution_count": 40,
     "metadata": {},
     "output_type": "execute_result"
    }
   ],
   "source": [
    "#class arrangement\n",
    "y_prob = model.predict_proba(X_val_vectors_bow)[:,1]\n",
    "model.classes_"
   ]
  },
  {
   "cell_type": "markdown",
   "id": "b98db579",
   "metadata": {},
   "source": [
    "# model Prediction"
   ]
  },
  {
   "cell_type": "code",
   "execution_count": 44,
   "id": "b0442611",
   "metadata": {},
   "outputs": [
    {
     "name": "stdout",
     "output_type": "stream",
     "text": [
      "حاسس بايه؟\n",
      "حاسس انى حزين\n",
      "من الممكن انك تعاني من اضطراب القلق\n"
     ]
    }
   ],
   "source": [
    "le= LabelEncoder()\n",
    "text=[str(input(\"حاسس بايه؟\\n\"))]\n",
    "input_data_features = cv.transform(text)\n",
    "\n",
    "#making prediction\n",
    "\n",
    "prediction = model.predict(input_data_features)\n",
    "proba=model.predict_proba(input_data_features)\n",
    "#print (proba)\n",
    "\n",
    "if max(proba[0]) > 0.5:\n",
    "\n",
    "  if proba[0].tolist().index(max(proba[0])) == 0:\n",
    "    print('من الممكن انك تعاني من الاكتئاب') \n",
    "\n",
    "  elif proba[0].tolist().index(max(proba[0])) == 1:\n",
    "    print('من الممكن انك تعاني من اضطراب القلق')  \n",
    "\n",
    "  elif proba[0].tolist().index(max(proba[0])) == 2:\n",
    "    print('من الممكن انك تعاني من الميول الانتحاريه')\n",
    "\n",
    "else:\n",
    "    print('اخري')"
   ]
  },
  {
   "cell_type": "markdown",
   "id": "f4fa0333",
   "metadata": {},
   "source": [
    "# model save"
   ]
  },
  {
   "cell_type": "code",
   "execution_count": 45,
   "id": "7494949d",
   "metadata": {},
   "outputs": [
    {
     "data": {
      "text/plain": [
       "['D:\\\\api_article\\\\model00.joblib']"
      ]
     },
     "execution_count": 45,
     "metadata": {},
     "output_type": "execute_result"
    }
   ],
   "source": [
    "#save model \n",
    "from joblib import dump\n",
    "dump(cv,r\"D:\\api_article\\cv.joblib\")\n",
    "dump(model,r\"D:\\api_article\\model00.joblib\")\n"
   ]
  },
  {
   "cell_type": "code",
   "execution_count": 46,
   "id": "239d2c39",
   "metadata": {},
   "outputs": [],
   "source": [
    "import pickle\n",
    "with open('model_pickle','wb') as file:\n",
    "    pickle.dump(model,file)"
   ]
  },
  {
   "cell_type": "code",
   "execution_count": null,
   "id": "7ac0b16c",
   "metadata": {},
   "outputs": [],
   "source": []
  },
  {
   "cell_type": "code",
   "execution_count": null,
   "id": "14b0c7a2",
   "metadata": {},
   "outputs": [],
   "source": []
  }
 ],
 "metadata": {
  "kernelspec": {
   "display_name": "Python 3 (ipykernel)",
   "language": "python",
   "name": "python3"
  },
  "language_info": {
   "codemirror_mode": {
    "name": "ipython",
    "version": 3
   },
   "file_extension": ".py",
   "mimetype": "text/x-python",
   "name": "python",
   "nbconvert_exporter": "python",
   "pygments_lexer": "ipython3",
   "version": "3.9.7"
  }
 },
 "nbformat": 4,
 "nbformat_minor": 5
}
